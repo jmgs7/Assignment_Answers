{
 "cells": [
  {
   "cell_type": "code",
   "execution_count": 7,
   "metadata": {},
   "outputs": [
    {
     "name": "stdout",
     "output_type": "stream",
     "text": [
      "#<Gene:0x0000000002e92d28>\n",
      "gen 29615017X causa inmortalidad\n",
      "otronombre 4453594 causa la muerte\n"
     ]
    }
   ],
   "source": [
    "class Gene\n",
    "  \n",
    "  attr_accessor :name\n",
    "  attr_accessor :ID\n",
    "  attr_accessor :mutphen\n",
    "  \n",
    "  def initialize (params={})\n",
    "    \n",
    "    @name = params.fetch(:name, \"unknown_gene\")\n",
    "    @ID = params.fetch(:ID, \"XX0X00000\")\n",
    "    @mutphen = params.fetch(:mutphen, \"unknown mutant phenotype\")\n",
    "  \n",
    "  end\n",
    "  \n",
    "end\n",
    "\n",
    "\n",
    "gen1 = Gene.new(\n",
    "  :name => \"gen\",\n",
    "  :ID => \"29615017X\",\n",
    "  :mutphen => \"causa inmortalidad\")\n",
    "\n",
    "puts gen1\n",
    "puts gen1.name + \" \" + gen1.ID + \" \" + gen1.mutphen\n",
    "gen1.name = \"otronombre\"\n",
    "gen1.ID = \"4453594\"\n",
    "gen1.mutphen = \"causa la muerte\"\n",
    "puts gen1.name + \" \" + gen1.ID + \" \" + gen1.mutphen"
   ]
  }
 ],
 "metadata": {
  "kernelspec": {
   "display_name": "Ruby 2.6.3",
   "language": "ruby",
   "name": "ruby"
  },
  "language_info": {
   "file_extension": ".rb",
   "mimetype": "application/x-ruby",
   "name": "ruby",
   "version": "2.6.3"
  }
 },
 "nbformat": 4,
 "nbformat_minor": 2
}
